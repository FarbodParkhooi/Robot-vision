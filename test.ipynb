{
 "cells": [
  {
   "cell_type": "markdown",
   "metadata": {},
   "source": [
    "## Import librarys"
   ]
  },
  {
   "cell_type": "code",
   "execution_count": 23,
   "metadata": {},
   "outputs": [],
   "source": [
    "from cvzone.HandTrackingModule import HandDetector\n",
    "from cvzone.FaceDetectionModule import FaceDetector\n",
    "from cvzone.FaceMeshModule import FaceMeshDetector\n",
    "from cvzone.PoseModule import PoseDetector\n",
    "import cv2 as cv"
   ]
  },
  {
   "cell_type": "markdown",
   "metadata": {},
   "source": [
    "## Create values"
   ]
  },
  {
   "cell_type": "code",
   "execution_count": 24,
   "metadata": {},
   "outputs": [],
   "source": [
    "cap = cv.VideoCapture(1)\n",
    "Face_detector = FaceDetector()\n",
    "FaceMesh_detector = FaceMeshDetector(maxFaces=100)\n",
    "Hand_detector = HandDetector(minTrackCon=0.5)"
   ]
  },
  {
   "cell_type": "markdown",
   "metadata": {},
   "source": [
    "# Hand detection"
   ]
  },
  {
   "cell_type": "code",
   "execution_count": 25,
   "metadata": {},
   "outputs": [],
   "source": [
    "# while True:\n",
    "#     rec, image = cap.read()\n",
    "#     Hands, image = Hand_detector.findHands(image)\n",
    "#     if Hands:\n",
    "#         Hand1 = Hands[0]\n",
    "#         lmList1 = Hand1[\"lmList\"]\n",
    "#         Hello_length1, info, img = Hand_detector.findDistance(lmList1[4][:-1], lmList1[20][:-1], image)\n",
    "#         if Hello_length1 < 15:\n",
    "#             print(\"hello1\")   \n",
    "#         if len(Hands) > 1:\n",
    "#             Hand2 = Hands[1]\n",
    "\n",
    "#             lmList2 = Hand2[\"lmList\"]\n",
    "\n",
    "#             Hello_length2, info, img = Hand_detector.findDistance(lmList2[4][:-1], lmList2[20][:-1], image)\n",
    "#             if Hello_length2 < 15:\n",
    "#                 print(\"hello2\")\n",
    "\n",
    "\n",
    "#     cv.imshow(\"image\", image)\n",
    "#     if cv.waitKey(1) & 0xFF == ord('q'): # If q pressed then:\n",
    "#         break\n",
    "# cap.release()\n",
    "# cv.destroyAllWindows()"
   ]
  },
  {
   "cell_type": "markdown",
   "metadata": {},
   "source": [
    "# Face detection"
   ]
  },
  {
   "cell_type": "markdown",
   "metadata": {},
   "source": [
    "### Face detector"
   ]
  },
  {
   "cell_type": "code",
   "execution_count": 26,
   "metadata": {},
   "outputs": [],
   "source": [
    "# while True:\n",
    "#     rec, image = cap.read()\n",
    "#     Faces, bbox = Face_detector.findFaces(image)\n",
    "\n",
    "#     if bbox:\n",
    "#         center = bbox[0][\"center\"]   \n",
    "#         cv.circle(image, center, 5, (255, 0, 255), cv.FILLED)\n",
    "\n",
    "#     cv.imshow(\"image\", image)\n",
    "#     if cv.waitKey(1) & 0xFF == ord('q'): # If q pressed then:\n",
    "#         break\n",
    "# cap.release()\n",
    "# cv.destroyAllWindows()"
   ]
  },
  {
   "cell_type": "markdown",
   "metadata": {},
   "source": [
    "### Face Mesh detector"
   ]
  },
  {
   "cell_type": "code",
   "execution_count": 27,
   "metadata": {},
   "outputs": [],
   "source": [
    "# while True:\n",
    "#     rec, image = cap.read()\n",
    "#     Faces, faces = FaceMesh_detector.findFaceMesh(image)\n",
    "\n",
    "\n",
    "#     cv.imshow(\"image\", image)\n",
    "#     if cv.waitKey(1) & 0xFF == ord('q'): # If q pressed then:\n",
    "#         break\n",
    "# cap.release()\n",
    "# cv.destroyAllWindows()"
   ]
  },
  {
   "cell_type": "code",
   "execution_count": 28,
   "metadata": {},
   "outputs": [],
   "source": [
    "Pose_Detector = PoseDetector(detectionCon=0.1) # Change Pose detector options\n",
    "while True:\n",
    "    rec, image = cap.read()\n",
    "    Poses = Pose_Detector.findPose(image) # Find Poses\n",
    "\n",
    "    cv.imshow(\"image\", image)\n",
    "    if cv.waitKey(1) & 0xFF == ord('q'): # If q pressed then:\n",
    "        break\n",
    "cap.release()\n",
    "cv.destroyAllWindows()"
   ]
  },
  {
   "cell_type": "code",
   "execution_count": null,
   "metadata": {},
   "outputs": [],
   "source": []
  }
 ],
 "metadata": {
  "kernelspec": {
   "display_name": "Python 3",
   "language": "python",
   "name": "python3"
  },
  "language_info": {
   "codemirror_mode": {
    "name": "ipython",
    "version": 3
   },
   "file_extension": ".py",
   "mimetype": "text/x-python",
   "name": "python",
   "nbconvert_exporter": "python",
   "pygments_lexer": "ipython3",
   "version": "3.11.4"
  },
  "orig_nbformat": 4
 },
 "nbformat": 4,
 "nbformat_minor": 2
}
